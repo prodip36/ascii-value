{
  "nbformat": 4,
  "nbformat_minor": 0,
  "metadata": {
    "colab": {
      "provenance": [],
      "authorship_tag": "ABX9TyP1xLgw31NfrCkXHJ2XsC/2",
      "include_colab_link": true
    },
    "kernelspec": {
      "name": "python3",
      "display_name": "Python 3"
    },
    "language_info": {
      "name": "python"
    }
  },
  "cells": [
    {
      "cell_type": "markdown",
      "metadata": {
        "id": "view-in-github",
        "colab_type": "text"
      },
      "source": [
        "<a href=\"https://colab.research.google.com/github/prodip36/ascii-value/blob/main/even_ascii.ipynb\" target=\"_parent\"><img src=\"https://colab.research.google.com/assets/colab-badge.svg\" alt=\"Open In Colab\"/></a>"
      ]
    },
    {
      "cell_type": "code",
      "execution_count": 6,
      "metadata": {
        "colab": {
          "base_uri": "https://localhost:8080/"
        },
        "id": "K4tZcN6COtZP",
        "outputId": "f83db3ef-b434-47f4-8788-b5fc05b4425f"
      },
      "outputs": [
        {
          "output_type": "stream",
          "name": "stdout",
          "text": [
            "b - 98\n",
            "d - 100\n",
            "f - 102\n",
            "h - 104\n",
            "j - 106\n",
            "l - 108\n",
            "n - 110\n",
            "p - 112\n",
            "r - 114\n",
            "t - 116\n",
            "v - 118\n",
            "x - 120\n",
            "z - 122\n"
          ]
        }
      ],
      "source": [
        "i=chr\n",
        "for i in range(ord('a'),ord('z')+1):\n",
        "    if i%2==0:\n",
        "        print(chr(i),\"-\",i)"
      ]
    }
  ]
}